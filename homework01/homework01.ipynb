{
 "cells": [
  {
   "cell_type": "markdown",
   "id": "266caed4-f5ab-49a9-b18f-48f0978f73e7",
   "metadata": {},
   "source": [
    "## Homework: Introduction\n",
    "\n",
    "In this homework, we'll learn more about search and use Elastic Search for practice. \n",
    "\n",
    "> It's possible that your answers won't match exactly. If it's the case, select the closest one.\n",
    "\n",
    "## Q1. Running Elastic \n",
    "\n",
    "Run Elastic Search 8.4.3, and get the cluster information. If you run it on localhost, this is how you do it:\n"
   ]
  },
  {
   "cell_type": "code",
   "execution_count": null,
   "id": "3a407922-b1a7-4d9d-b3e7-477abd91758e",
   "metadata": {},
   "outputs": [],
   "source": [
    "!docker run -it \\\n",
    "    --rm \\\n",
    "    --name elasticsearch \\\n",
    "    -p 9200:9200 \\\n",
    "    -p 9300:9300 \\\n",
    "    -e \"discovery.type=single-node\" \\\n",
    "    -e \"xpack.security.enabled=false\" \\\n",
    "    docker.elastic.co/elasticsearch/elasticsearch:8.4.3"
   ]
  },
  {
   "cell_type": "code",
   "execution_count": 3,
   "id": "74dc94b3-db34-43b0-a3b8-4e38acf64705",
   "metadata": {},
   "outputs": [
    {
     "name": "stdout",
     "output_type": "stream",
     "text": [
      "{\n",
      "  \"name\" : \"b74c19275d98\",\n",
      "  \"cluster_name\" : \"docker-cluster\",\n",
      "  \"cluster_uuid\" : \"pqtPQeYoQAubspIHBU_Lrg\",\n",
      "  \"version\" : {\n",
      "    \"number\" : \"8.4.3\",\n",
      "    \"build_flavor\" : \"default\",\n",
      "    \"build_type\" : \"docker\",\n",
      "    \"build_hash\" : \"42f05b9372a9a4a470db3b52817899b99a76ee73\",\n",
      "    \"build_date\" : \"2022-10-04T07:17:24.662462378Z\",\n",
      "    \"build_snapshot\" : false,\n",
      "    \"lucene_version\" : \"9.3.0\",\n",
      "    \"minimum_wire_compatibility_version\" : \"7.17.0\",\n",
      "    \"minimum_index_compatibility_version\" : \"7.0.0\"\n",
      "  },\n",
      "  \"tagline\" : \"You Know, for Search\"\n",
      "}\n"
     ]
    }
   ],
   "source": [
    "!curl localhost:9200"
   ]
  },
  {
   "cell_type": "markdown",
   "id": "9a404ee7-084e-46ec-a83f-3608e060569e",
   "metadata": {},
   "source": [
    "What's the `version.build_hash` value?\n",
    "\n",
    "\n",
    "## Getting the data\n",
    "\n",
    "Now let's get the FAQ data. You can run this snippet:"
   ]
  },
  {
   "cell_type": "code",
   "execution_count": 4,
   "id": "39bc30ef-473c-4c37-9ae9-ab6452c9cc22",
   "metadata": {},
   "outputs": [],
   "source": [
    "import requests \n",
    "\n",
    "docs_url = 'https://github.com/DataTalksClub/llm-zoomcamp/blob/main/01-intro/documents.json?raw=1'\n",
    "docs_response = requests.get(docs_url)\n",
    "documents_raw = docs_response.json()\n",
    "\n",
    "documents = []\n",
    "\n",
    "for course in documents_raw:\n",
    "    course_name = course['course']\n",
    "\n",
    "    for doc in course['documents']:\n",
    "        doc['course'] = course_name\n",
    "        documents.append(doc)"
   ]
  },
  {
   "cell_type": "markdown",
   "id": "e17dc81c-89b6-4f02-8a0a-e56d1fbc9e6d",
   "metadata": {},
   "source": [
    "Note that you need to have the `requests` library:\n",
    "\n",
    "```bash\n",
    "pip install requests\n",
    "```\n",
    "\n",
    "## Q2. Indexing the data\n",
    "\n",
    "Index the data in the same way as was shown in the course videos. Make the `course` field a keyword and the rest should be text. \n",
    "\n",
    "Don't forget to install the ElasticSearch client for Python:\n",
    "\n",
    "```bash\n",
    "pip install elasticsearch\n",
    "```\n",
    "\n",
    "Which function do you use for adding your data to elastic?\n",
    "\n",
    "* `insert`\n",
    "* `index`\n",
    "* `put`\n",
    "* `add`"
   ]
  },
  {
   "cell_type": "code",
   "execution_count": 6,
   "id": "dff3edb7-70cc-4b08-b872-26f5816c4009",
   "metadata": {},
   "outputs": [
    {
     "name": "stdout",
     "output_type": "stream",
     "text": [
      "\u001b[1;32mInstalling elasticsearch\u001b[0m\u001b[1;33m...\u001b[0m\n",
      "\u001b[?25lResolving elasticsearch\u001b[33m...\u001b[0m\n",
      "\u001b[2K✔ Installation Succeeded\n",
      "\u001b[2K\u001b[32m⠋\u001b[0m Installing elasticsearch...\n",
      "\u001b[1A\u001b[2K\u001b[1mInstalling dependencies from Pipfile.lock \u001b[0m\u001b[1m(\u001b[0m\u001b[1m9e3cfe\u001b[0m\u001b[1m)\u001b[0m\u001b[1;33m...\u001b[0m\n"
     ]
    }
   ],
   "source": [
    "!pipenv install elasticsearch"
   ]
  },
  {
   "cell_type": "code",
   "execution_count": 8,
   "id": "d61f82a5-dec7-43cd-9e9f-96bf993f92c4",
   "metadata": {},
   "outputs": [],
   "source": [
    "from elasticsearch import Elasticsearch\n",
    "es_client = Elasticsearch(\"http://localhost:9200\")"
   ]
  },
  {
   "cell_type": "code",
   "execution_count": 9,
   "id": "61f6a2c2-c4e2-49b2-a0b7-3f7706c0b9dc",
   "metadata": {},
   "outputs": [
    {
     "data": {
      "text/plain": [
       "dict_keys(['text', 'section', 'question', 'course'])"
      ]
     },
     "execution_count": 9,
     "metadata": {},
     "output_type": "execute_result"
    }
   ],
   "source": [
    "documents[0].keys()"
   ]
  },
  {
   "cell_type": "code",
   "execution_count": 10,
   "id": "5836f8e0-9b57-4a1c-9aa3-54bd4da1605a",
   "metadata": {},
   "outputs": [
    {
     "data": {
      "text/plain": [
       "ObjectApiResponse({'acknowledged': True, 'shards_acknowledged': True, 'index': 'course-questions'})"
      ]
     },
     "execution_count": 10,
     "metadata": {},
     "output_type": "execute_result"
    }
   ],
   "source": [
    "index_settings = {\n",
    "    \"settings\": {\n",
    "        \"number_of_shards\": 1,\n",
    "        \"number_of_replicas\": 0\n",
    "    },\n",
    "    \"mappings\": {\n",
    "        \"properties\": {\n",
    "            \"text\": {\"type\": \"text\"},\n",
    "            \"section\": {\"type\": \"text\"},\n",
    "            \"question\": {\"type\": \"text\"},\n",
    "            \"course\": {\"type\": \"keyword\"} \n",
    "        }\n",
    "    }\n",
    "}\n",
    "\n",
    "index_name = \"course-questions\"\n",
    "\n",
    "es_client.indices.create(index=index_name, body=index_settings)"
   ]
  },
  {
   "cell_type": "code",
   "execution_count": 12,
   "id": "bda1121a-bc51-4eb2-83b2-1318b78f1a88",
   "metadata": {},
   "outputs": [
    {
     "data": {
      "application/vnd.jupyter.widget-view+json": {
       "model_id": "894ce2dcb1544bd8b2ed32b2cacb7939",
       "version_major": 2,
       "version_minor": 0
      },
      "text/plain": [
       "  0%|          | 0/948 [00:00<?, ?it/s]"
      ]
     },
     "metadata": {},
     "output_type": "display_data"
    }
   ],
   "source": [
    "from tqdm.auto import tqdm\n",
    "\n",
    "for doc in tqdm(documents):\n",
    "    es_client.index(index=index_name, document=doc) "
   ]
  },
  {
   "cell_type": "markdown",
   "id": "3e9b39ac-596a-4e9e-8150-ec668db71ca0",
   "metadata": {},
   "source": [
    "## Q3. Searching\n",
    "\n",
    "Now let's search in our index. \n",
    "\n",
    "We will execute a query \"How do I execute a command in a running docker container?\". \n",
    "\n",
    "Use only `question` and `text` fields and give `question` a boost of 4, and use `\"type\": \"best_fields\"`.\n",
    "\n",
    "What's the score for the top ranking result?\n",
    "\n",
    "* 94.05\n",
    "* 84.05\n",
    "* 74.05\n",
    "* 64.05\n",
    "\n",
    "Look at the `_score` field."
   ]
  },
  {
   "cell_type": "code",
   "execution_count": 21,
   "id": "3cabf571-2b18-4d4b-989c-ed6a8ece21be",
   "metadata": {},
   "outputs": [
    {
     "data": {
      "text/plain": [
       "84.050095"
      ]
     },
     "execution_count": 21,
     "metadata": {},
     "output_type": "execute_result"
    }
   ],
   "source": [
    "query=\"How do I execute a command in a running docker container?\"\n",
    "\n",
    "search_query = {\n",
    "    \"size\": 1,\n",
    "    \"query\": {\n",
    "        \"bool\": {\n",
    "            \"must\": {\n",
    "                \"multi_match\": {\n",
    "                    \"query\": query,\n",
    "                    \"fields\": [\"question^4\", \"text\", \"section\"],\n",
    "                    \"type\": \"best_fields\"\n",
    "                }\n",
    "            }\n",
    "        }\n",
    "    }\n",
    "}\n",
    "\n",
    "response = es_client.search(index=index_name, body=search_query)\n",
    "\n",
    "first_hit = response['hits']['hits'][0]\n",
    "first_hit[\"_score\"]\n"
   ]
  },
  {
   "cell_type": "markdown",
   "id": "6e6e0e0f-de4f-487f-8acf-d3cb75e5c68c",
   "metadata": {},
   "source": [
    "## Q4. Filtering\n",
    "\n",
    "Now let's only limit the questions to `machine-learning-zoomcamp`.\n",
    "\n",
    "Return 3 results. What's the 3rd question returned by the search engine?\n",
    "\n",
    "* How do I debug a docker container?\n",
    "* How do I copy files from a different folder into docker container’s working directory?\n",
    "* How do Lambda container images work?\n",
    "* How can I annotate a graph?"
   ]
  },
  {
   "cell_type": "code",
   "execution_count": 22,
   "id": "5a4a00be-b8e9-414d-982c-c249c4b46418",
   "metadata": {},
   "outputs": [
    {
     "name": "stdout",
     "output_type": "stream",
     "text": [
      "How do I debug a docker container?\n",
      "How do I copy files from my local machine to docker container?\n",
      "How do I copy files from a different folder into docker container’s working directory?\n"
     ]
    }
   ],
   "source": [
    "query = \"How do I execute a command in a running docker container?\"\n",
    "query_filter = \"machine-learning-zoomcamp\"\n",
    "\n",
    "search_query = {\n",
    "    \"size\": 3,\n",
    "    \"query\": {\n",
    "        \"bool\": {\n",
    "            \"must\": {\n",
    "                \"multi_match\": {\n",
    "                    \"query\": query,\n",
    "                    \"fields\": [\"question^4\", \"text\", \"section\"],\n",
    "                    \"type\": \"best_fields\"\n",
    "                }\n",
    "            },\n",
    "            \"filter\": {\n",
    "                \"term\": {\n",
    "                    \"course\": query_filter\n",
    "                }\n",
    "            }\n",
    "        }\n",
    "    }\n",
    "}\n",
    "\n",
    "response = es_client.search(index=index_name, body=search_query)\n",
    "\n",
    "for hit in response['hits']['hits']:\n",
    "    print(hit['_source']['question'])\n"
   ]
  },
  {
   "cell_type": "markdown",
   "id": "b034d092-8a42-429d-a12b-a7684ad44cb8",
   "metadata": {},
   "source": [
    "## Q5. Building a prompt\n",
    "\n",
    "Now we're ready to build a prompt to send to an LLM. \n",
    "\n",
    "Take the records returned from Elasticsearch in Q4 and use this template to build the context. Separate context entries by two linebreaks (`\\n\\n`)"
   ]
  },
  {
   "cell_type": "code",
   "execution_count": 23,
   "id": "d4ab6089-47cc-4e41-99b5-d5802c563057",
   "metadata": {},
   "outputs": [],
   "source": [
    "context_template = \"\"\"\n",
    "Q: {question}\n",
    "A: {text}\n",
    "\"\"\".strip()"
   ]
  },
  {
   "cell_type": "markdown",
   "id": "54c8788a-5347-44c3-a19b-1abb8ba8644d",
   "metadata": {},
   "source": [
    "Now use the context you just created along with the \"How do I execute a command in a running docker container?\" question \n",
    "to construct a prompt using the template below:"
   ]
  },
  {
   "cell_type": "code",
   "execution_count": 24,
   "id": "50d1968e-aafb-4bad-9421-6ccd7f57da73",
   "metadata": {},
   "outputs": [],
   "source": [
    "\n",
    "prompt_template = \"\"\"\n",
    "You're a course teaching assistant. Answer the QUESTION based on the CONTEXT from the FAQ database.\n",
    "Use only the facts from the CONTEXT when answering the QUESTION.\n",
    "\n",
    "QUESTION: {question}\n",
    "\n",
    "CONTEXT:\n",
    "{context}\n",
    "\"\"\".strip()\n"
   ]
  },
  {
   "cell_type": "markdown",
   "id": "c3305b98-abb9-4f63-a740-67f8d1b3c8c2",
   "metadata": {},
   "source": [
    "What's the length of the resulting prompt? (use the `len` function)\n",
    "\n",
    "* 962\n",
    "* 1462\n",
    "* 1962\n",
    "* 2462"
   ]
  },
  {
   "cell_type": "code",
   "execution_count": 31,
   "id": "c2e558bf-a514-440c-a83f-4803ba2dbc97",
   "metadata": {},
   "outputs": [
    {
     "name": "stdout",
     "output_type": "stream",
     "text": [
      "Q: How do I debug a docker container?\n",
      "A: Launch the container image in interactive mode and overriding the entrypoint, so that it starts a bash command.\n",
      "docker run -it --entrypoint bash <image>\n",
      "If the container is already running, execute a command in the specific container:\n",
      "docker ps (find the container-id)\n",
      "docker exec -it <container-id> bash\n",
      "(Marcos MJD)\n",
      "\n",
      "Q: How do I copy files from my local machine to docker container?\n",
      "A: You can copy files from your local machine into a Docker container using the docker cp command. Here's how to do it:\n",
      "To copy a file or directory from your local machine into a running Docker container, you can use the `docker cp command`. The basic syntax is as follows:\n",
      "docker cp /path/to/local/file_or_directory container_id:/path/in/container\n",
      "Hrithik Kumar Advani\n",
      "\n",
      "Q: How do I copy files from a different folder into docker container’s working directory?\n",
      "A: You can copy files from your local machine into a Docker container using the docker cp command. Here's how to do it:\n",
      "In the Dockerfile, you can provide the folder containing the files that you want to copy over. The basic syntax is as follows:\n",
      "COPY [\"src/predict.py\", \"models/xgb_model.bin\", \"./\"]\t\t\t\t\t\t\t\t\t\t\tGopakumar Gopinathan\n"
     ]
    }
   ],
   "source": [
    "context = \"\"\n",
    "for hit in response['hits']['hits']:\n",
    "    context = context + context_template.format(\n",
    "        question=hit[\"_source\"][\"question\"],\n",
    "        text=hit[\"_source\"][\"text\"]\n",
    "    ) + \"\\n\\n\"\n",
    "context = context.strip()\n",
    "print(context)"
   ]
  },
  {
   "cell_type": "code",
   "execution_count": 32,
   "id": "a1851469-5b53-4c26-988b-b0ad5789c9a7",
   "metadata": {},
   "outputs": [
    {
     "data": {
      "text/plain": [
       "1462"
      ]
     },
     "execution_count": 32,
     "metadata": {},
     "output_type": "execute_result"
    }
   ],
   "source": [
    "prompt = prompt_template.format(question=query, context=context)\n",
    "len(prompt)"
   ]
  },
  {
   "cell_type": "markdown",
   "id": "90567575-1798-4400-ac38-bee19584950d",
   "metadata": {},
   "source": [
    "## Q6. Tokens\n",
    "\n",
    "When we use the OpenAI Platform, we're charged by the number of \n",
    "tokens we send in our prompt and receive in the response.\n",
    "\n",
    "The OpenAI python package uses `tiktoken` for tokenization:"
   ]
  },
  {
   "cell_type": "code",
   "execution_count": 33,
   "id": "4602b9fd-f4ff-4f8a-b2db-79c1fd6a801e",
   "metadata": {},
   "outputs": [
    {
     "name": "stdout",
     "output_type": "stream",
     "text": [
      "\u001b[1;32mInstalling tiktoken\u001b[0m\u001b[1;33m...\u001b[0m\n",
      "\u001b[?25lResolving tiktoken\u001b[33m...\u001b[0m\n",
      "\u001b[2K\u001b[1mAdded \u001b[0m\u001b[1;32mtiktoken\u001b[0m to Pipfile's \u001b[1;33m[\u001b[0m\u001b[33mpackages\u001b[0m\u001b[1;33m]\u001b[0m \u001b[33m...\u001b[0m\n",
      "\u001b[2K✔ Installation Succeededen...\n",
      "\u001b[2K\u001b[32m⠋\u001b[0m Installing tiktoken...\n",
      "\u001b[1A\u001b[2K\u001b[1;33mPipfile.lock \u001b[0m\u001b[1;33m(\u001b[0m\u001b[1;33m9e3cfe\u001b[0m\u001b[1;33m)\u001b[0m\u001b[1;33m out of date, updating to \u001b[0m\u001b[1;33m(\u001b[0m\u001b[1;33m2a1e40\u001b[0m\u001b[1;33m)\u001b[0m\u001b[1;33m...\u001b[0m\n",
      "Locking\u001b[0m \u001b[33m[packages]\u001b[0m dependencies...\u001b[0m\n",
      "\u001b[?25lBuilding requirements\u001b[33m...\u001b[0m\n",
      "\u001b[2KResolving dependencies\u001b[33m...\u001b[0m\n",
      "\u001b[2K✔ Success! Locking...\n",
      "\u001b[2K\u001b[32m⠸\u001b[0m Locking...\n",
      "\u001b[1A\u001b[2KLocking\u001b[0m \u001b[33m[dev-packages]\u001b[0m dependencies...\u001b[0m\n",
      "\u001b[1mUpdated Pipfile.lock (2d25fe3ed45894dc8b13eaf611cd2b964bdb3db1a4ea0f740d0e7692fb2a1e40)!\u001b[0m\n",
      "\u001b[1mInstalling dependencies from Pipfile.lock \u001b[0m\u001b[1m(\u001b[0m\u001b[1m2a1e40\u001b[0m\u001b[1m)\u001b[0m\u001b[1;33m...\u001b[0m\n"
     ]
    }
   ],
   "source": [
    "!pipenv install tiktoken"
   ]
  },
  {
   "cell_type": "markdown",
   "id": "1b1346bf-6ba6-4a2c-83d0-c2f08bf284b2",
   "metadata": {},
   "source": [
    "Let's calculate the number of tokens in our query: "
   ]
  },
  {
   "cell_type": "code",
   "execution_count": 40,
   "id": "4c78a7ea-b8b0-4d8a-997e-8402272b7c62",
   "metadata": {},
   "outputs": [],
   "source": [
    "import tiktoken\n",
    "\n",
    "encoding_gpt4 = tiktoken.encoding_for_model(\"gpt-4o\")\n",
    "tokens_gpt4 = encoding_gpt4.encode(prompt)"
   ]
  },
  {
   "cell_type": "code",
   "execution_count": 41,
   "id": "483e9927-67c2-4358-8de5-c946093be94f",
   "metadata": {},
   "outputs": [
    {
     "data": {
      "text/plain": [
       "322"
      ]
     },
     "execution_count": 41,
     "metadata": {},
     "output_type": "execute_result"
    }
   ],
   "source": [
    "len(tokens_gpt4)"
   ]
  },
  {
   "cell_type": "markdown",
   "id": "940a0620-24a0-4c23-9681-8c5986c529c2",
   "metadata": {},
   "source": [
    "Use the `encode` function. How many tokens does our prompt have?\n",
    "\n",
    "* 122\n",
    "* 222\n",
    "* 322\n",
    "* 422\n",
    "\n",
    "Note: to decode back a token into a word, you can use the `decode_single_token_bytes` function:"
   ]
  },
  {
   "cell_type": "markdown",
   "id": "a02689a0-e43e-4271-be66-71f8e2d3e535",
   "metadata": {},
   "source": [
    "\n",
    "encoding.decode_single_token_bytes(63842)\n"
   ]
  },
  {
   "cell_type": "markdown",
   "id": "00a5e27f-6348-4bab-b55f-adde22f2b533",
   "metadata": {},
   "source": [
    "## Bonus: generating the answer (ungraded)\n",
    "\n",
    "Let's send the prompt to OpenAI. What's the response?  \n",
    "\n",
    "Note: you can replace OpenAI with Ollama. See module 2."
   ]
  },
  {
   "cell_type": "code",
   "execution_count": 45,
   "id": "ee375d9b-0dd9-4598-9c4d-7218db48769d",
   "metadata": {},
   "outputs": [
    {
     "name": "stdout",
     "output_type": "stream",
     "text": [
      "\u001b[1;32mInstalling ollama\u001b[0m\u001b[1;33m...\u001b[0m\n",
      "\u001b[?25lResolving ollama\u001b[33m...\u001b[0m\n",
      "\u001b[2K\u001b[1mAdded \u001b[0m\u001b[1;32mollama\u001b[0m to Pipfile's \u001b[1;33m[\u001b[0m\u001b[33mpackages\u001b[0m\u001b[1;33m]\u001b[0m \u001b[33m...\u001b[0m\n",
      "\u001b[2K✔ Installation Succeeded...\n",
      "\u001b[2K\u001b[32m⠋\u001b[0m Installing ollama...\n",
      "\u001b[1A\u001b[2K\u001b[1;33mPipfile.lock \u001b[0m\u001b[1;33m(\u001b[0m\u001b[1;33m2a1e40\u001b[0m\u001b[1;33m)\u001b[0m\u001b[1;33m out of date, updating to \u001b[0m\u001b[1;33m(\u001b[0m\u001b[1;33mace5f8\u001b[0m\u001b[1;33m)\u001b[0m\u001b[1;33m...\u001b[0m\n",
      "Locking\u001b[0m \u001b[33m[packages]\u001b[0m dependencies...\u001b[0m\n",
      "\u001b[?25lBuilding requirements\u001b[33m...\u001b[0m\n",
      "\u001b[2KResolving dependencies\u001b[33m...\u001b[0m\n",
      "\u001b[2K✔ Success! Locking...\n",
      "\u001b[2K\u001b[32m⠴\u001b[0m Locking...\n",
      "\u001b[1A\u001b[2KLocking\u001b[0m \u001b[33m[dev-packages]\u001b[0m dependencies...\u001b[0m\n",
      "\u001b[1mUpdated Pipfile.lock (4be5891bef6e77fafcece701cd75bc3e79c43bb4f28ce3d94a25da6aedace5f8)!\u001b[0m\n",
      "\u001b[1mInstalling dependencies from Pipfile.lock \u001b[0m\u001b[1m(\u001b[0m\u001b[1mace5f8\u001b[0m\u001b[1m)\u001b[0m\u001b[1;33m...\u001b[0m\n"
     ]
    }
   ],
   "source": [
    "!pipenv install ollama"
   ]
  },
  {
   "cell_type": "code",
   "execution_count": 46,
   "id": "e9748cbb-31ef-498f-aca7-08bb0822f92d",
   "metadata": {},
   "outputs": [
    {
     "name": "stdout",
     "output_type": "stream",
     "text": [
      "According to the FAQ database context, to execute a command in a running Docker container:\n",
      "\n",
      "docker exec -it <container-id> bash\n",
      "\n",
      "Replace `<container-id>` with the actual ID of your running container.\n"
     ]
    }
   ],
   "source": [
    "import ollama\n",
    "response = ollama.chat(model='llama3', messages=[\n",
    "  {\n",
    "    'role': 'user',\n",
    "    'content': prompt,\n",
    "  },\n",
    "])\n",
    "print(response['message']['content'])"
   ]
  },
  {
   "cell_type": "markdown",
   "id": "20e2d007-cae1-4086-9332-ea4563b27572",
   "metadata": {},
   "source": [
    "## Bonus: calculating the costs (ungraded)\n",
    "\n",
    "Suppose that on average per request we send 150 tokens and receive back 250 tokens.\n",
    "\n",
    "How much will it cost to run 1000 requests?\n",
    "\n",
    "You can see the prices [here](https://openai.com/api/pricing/)\n",
    "\n",
    "On June 17, the prices for gpt4o are:\n",
    "\n",
    "- Input: $0.005 / 1K tokens\n",
    "\n",
    "- Output: $0.015 / 1K tokens\n",
    "\n",
    "You can redo the calculations with the values you got in Q6 and Q7."
   ]
  },
  {
   "cell_type": "code",
   "execution_count": 44,
   "id": "ab9d7150-423e-4e8c-8ab0-631a3c297961",
   "metadata": {},
   "outputs": [
    {
     "name": "stdout",
     "output_type": "stream",
     "text": [
      "$ 4.5 per 150k input, 250k output\n"
     ]
    }
   ],
   "source": [
    "price = 150*0.005+250*0.015\n",
    "print(\"$\", price, \"per 150k input, 250k output\")"
   ]
  },
  {
   "cell_type": "code",
   "execution_count": 50,
   "id": "af680bc4-e20f-4a1a-8442-f45056a2d73c",
   "metadata": {},
   "outputs": [
    {
     "data": {
      "text/plain": [
       "41"
      ]
     },
     "execution_count": 50,
     "metadata": {},
     "output_type": "execute_result"
    }
   ],
   "source": [
    "tokens_gpt4_output = encoding_gpt4.encode(response['message']['content'])\n",
    "len(tokens_gpt4_output)"
   ]
  },
  {
   "cell_type": "code",
   "execution_count": 55,
   "id": "5021a81b-45ce-4dc1-a407-54fab2af8ec8",
   "metadata": {},
   "outputs": [
    {
     "name": "stdout",
     "output_type": "stream",
     "text": [
      "$ 2.225 per 322 k input,  41 k output\n"
     ]
    }
   ],
   "source": [
    "price = len(tokens_gpt4)*0.005+len(tokens_gpt4_output)*0.015\n",
    "print(\"$\", price, \"per\", len(tokens_gpt4),\"k input, \", len(tokens_gpt4_output), \"k output\")"
   ]
  },
  {
   "cell_type": "markdown",
   "id": "b79922dc-997d-497b-aefd-4d4e3f7a3b97",
   "metadata": {},
   "source": [
    "## Submit the results\n",
    "\n",
    "* Submit your results here: https://courses.datatalks.club/llm-zoomcamp-2024/homework/hw1\n",
    "* It's possible that your answers won't match exactly. If it's the case, select the closest one."
   ]
  }
 ],
 "metadata": {
  "kernelspec": {
   "display_name": "Python 3 (ipykernel)",
   "language": "python",
   "name": "python3"
  },
  "language_info": {
   "codemirror_mode": {
    "name": "ipython",
    "version": 3
   },
   "file_extension": ".py",
   "mimetype": "text/x-python",
   "name": "python",
   "nbconvert_exporter": "python",
   "pygments_lexer": "ipython3",
   "version": "3.10.12"
  }
 },
 "nbformat": 4,
 "nbformat_minor": 5
}
